{
  "cells": [
    {
      "cell_type": "code",
      "execution_count": null,
      "metadata": {
        "id": "rCt_X1OeTXbI"
      },
      "outputs": [],
      "source": [
        "import pandas as pd\n",
        "import numpy as np\n",
        "import glob\n",
        "import os\n",
        "import re\n",
        "import matplotlib.pyplot as plt\n",
        "import seaborn as sns"
      ]
    },
    {
      "cell_type": "code",
      "execution_count": null,
      "metadata": {
        "id": "hHUpKQSSTzDV"
      },
      "outputs": [],
      "source": [
        "base_path = r'C:\\Users\\dlwks\\OneDrive\\바탕 화면\\VSCode\\HD_AI_Challenge\\qhstjs\\train'\n",
        "train_paths = glob.glob(os.path.join(base_path, '*.csv'))"
      ]
    },
    {
      "cell_type": "code",
      "execution_count": null,
      "metadata": {
        "id": "PCjwDy12TvcN"
      },
      "outputs": [],
      "source": [
        "# 파일 이름에서 target 값을 추출\n",
        "def load_data(file_path):\n",
        "    file_name = os.path.basename(file_path)\n",
        "    target_value = re.match(r'(\\d+)kg_\\w+\\.csv', file_name).group(1)\n",
        "\n",
        "    loaded_data = pd.read_csv(file_path)\n",
        "\n",
        "    loaded_data['Target'] = int(target_value)\n",
        "    return loaded_data"
      ]
    },
    {
      "cell_type": "markdown",
      "metadata": {
        "id": "3XWaNjoYViWg"
      },
      "source": [
        "## 전체 데이터 concat해서 진행"
      ]
    },
    {
      "cell_type": "code",
      "execution_count": null,
      "metadata": {
        "colab": {
          "base_uri": "https://localhost:8080/"
        },
        "id": "XdHMD2oqTvKF",
        "outputId": "895ffef2-b4cb-4706-afa0-50d0737263b6"
      },
      "outputs": [],
      "source": [
        "all_data = pd.concat([load_data(f) for f in train_paths])\n",
        "\n",
        "print(all_data.isnull().sum())\n",
        "print(all_data.describe())"
      ]
    },
    {
      "cell_type": "code",
      "execution_count": null,
      "metadata": {
        "colab": {
          "base_uri": "https://localhost:8080/",
          "height": 1000
        },
        "id": "D3OyfX6eT6wK",
        "outputId": "5eeff02e-1733-4c18-ac12-3f100c42d166"
      },
      "outputs": [],
      "source": [
        "columns_to_plot = ['Signal A', 'Signal B', 'Signal C', 'Sensor A', 'Sensor B', 'Sensor C', 'Sensor D', 'Target']\n",
        "all_data[columns_to_plot].hist(bins=30, figsize=(15, 10))\n",
        "plt.tight_layout()\n",
        "plt.show()"
      ]
    },
    {
      "cell_type": "code",
      "execution_count": null,
      "metadata": {
        "colab": {
          "base_uri": "https://localhost:8080/",
          "height": 885
        },
        "id": "tR_JfOr1T8Vl",
        "outputId": "11c2d403-37d7-4fd6-f0e3-715f01e0cf5d"
      },
      "outputs": [],
      "source": [
        "plt.figure(figsize=(10, 8))\n",
        "sns.heatmap(all_data[columns_to_plot].corr(), annot=True, cmap='coolwarm', center=0)\n",
        "plt.title('confusion matrix')\n",
        "plt.show()"
      ]
    },
    {
      "cell_type": "markdown",
      "metadata": {
        "id": "forrRBy9VlZa"
      },
      "source": [
        "## 개별 데이터"
      ]
    },
    {
      "cell_type": "code",
      "execution_count": null,
      "metadata": {
        "colab": {
          "base_uri": "https://localhost:8080/",
          "height": 1000
        },
        "id": "DxjrMadfUUef",
        "outputId": "d3bae10a-0dbb-4d5e-b1fb-2e8e386f58ae"
      },
      "outputs": [],
      "source": [
        "for file_path in train_paths:\n",
        "    data = load_data(file_path)\n",
        "    file_name = os.path.basename(file_path)\n",
        "\n",
        "    columns_to_plot = ['Signal A', 'Signal B', 'Signal C', 'Sensor A', 'Sensor B', 'Sensor C', 'Sensor D']\n",
        "    data[columns_to_plot].hist(bins=30, figsize=(15, 10))\n",
        "    plt.tight_layout()\n",
        "    plt.show()\n",
        "\n",
        "    plt.figure(figsize=(12, 10))\n",
        "    sns.heatmap(data[columns_to_plot].corr(), annot=True, cmap='coolwarm', center=0)\n",
        "    plt.title(f'{file_name}')\n",
        "    plt.tight_layout()\n",
        "    plt.show()"
      ]
    },
    {
      "cell_type": "code",
      "execution_count": null,
      "metadata": {
        "colab": {
          "base_uri": "https://localhost:8080/",
          "height": 1000
        },
        "id": "xg-vACeQaYwV",
        "outputId": "80587d23-5cc5-40dd-eac4-3bb3c8d6b61f"
      },
      "outputs": [],
      "source": [
        "for file_path in train_paths:\n",
        "    data = load_data(file_path)\n",
        "    file_name = os.path.basename(file_path)\n",
        "\n",
        "    # 시간에 따른 센서 값들의 변화를 플롯합니다\n",
        "    time_col = data.columns[0]  \n",
        "    sensor_cols = ['Signal A', 'Signal B', 'Signal C', 'Sensor A', 'Sensor B', 'Sensor C', 'Sensor D']\n",
        "\n",
        "    plt.figure(figsize=(15, 15))\n",
        "    for sensor in sensor_cols:\n",
        "        plt.plot(data[time_col], data[sensor], label=sensor)\n",
        "    plt.xlabel('Time')\n",
        "    plt.ylabel('Sensor Values')\n",
        "    plt.title(f'Sensor Values Over Time for {file_name}')\n",
        "    plt.legend()\n",
        "    plt.show()"
      ]
    },
    {
      "cell_type": "code",
      "execution_count": null,
      "metadata": {
        "id": "QuQ3nBduegZ1"
      },
      "outputs": [],
      "source": [
        "for file_path in train_paths:\n",
        "    data = load_data(file_path)\n",
        "    file_name = os.path.basename(file_path)\n",
        "\n",
        "    # 시간에 따른 센서 값들의 변화를 플롯합니다\n",
        "    time_col = data.columns[0]  \n",
        "    sensor_cols = ['Signal A', 'Signal B', 'Signal C', 'Sensor A', 'Sensor B', 'Sensor C', 'Sensor D']\n",
        "\n",
        "    fig, axes = plt.subplots(2, 4, figsize=(20, 10))\n",
        "    axes = axes.flatten()\n",
        "\n",
        "    for i, sensor in enumerate(sensor_cols):\n",
        "        ax = axes[i]\n",
        "        ax.plot(data[time_col], data[sensor])\n",
        "        ax.set_xlabel('Time')\n",
        "        ax.set_ylabel('Sensor Values')\n",
        "        ax.set_title(f'{sensor} Over Time')\n",
        "\n",
        "        # x축 눈금 조절과 회전 추가\n",
        "        ax.set_xticks(np.arange(min(data[time_col]), max(data[time_col])+1, step=3))\n",
        "        ax.set_xticklabels(ax.get_xticks(), rotation=45)\n",
        "\n",
        "    # 사용하지 않는 축 숨기기\n",
        "    for j in range(len(sensor_cols), len(axes)):\n",
        "        fig.delaxes(axes[j])\n",
        "\n",
        "    plt.tight_layout()\n",
        "    plt.suptitle(f'Sensor Values Over Time for {file_name}', y=1.02)\n",
        "    plt.show()"
      ]
    },
    {
      "cell_type": "code",
      "execution_count": null,
      "metadata": {},
      "outputs": [],
      "source": [
        "from statsmodels.graphics.tsaplots import plot_acf\n",
        "\n",
        "for sensor in sensor_cols:\n",
        "    plt.figure(figsize=(8, 6))\n",
        "    plot_acf(data[sensor], lags=50)\n",
        "    plt.title(f'Autocorrelation of {sensor}')\n",
        "    plt.show()"
      ]
    },
    {
      "cell_type": "code",
      "execution_count": null,
      "metadata": {},
      "outputs": [],
      "source": []
    }
  ],
  "metadata": {
    "colab": {
      "provenance": []
    },
    "kernelspec": {
      "display_name": "Python 3",
      "name": "python3"
    },
    "language_info": {
      "codemirror_mode": {
        "name": "ipython",
        "version": 3
      },
      "file_extension": ".py",
      "mimetype": "text/x-python",
      "name": "python",
      "nbconvert_exporter": "python",
      "pygments_lexer": "ipython3",
      "version": "3.11.2"
    }
  },
  "nbformat": 4,
  "nbformat_minor": 0
}
